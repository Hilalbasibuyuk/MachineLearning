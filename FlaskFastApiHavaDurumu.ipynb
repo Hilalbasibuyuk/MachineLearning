{
 "cells": [
  {
   "cell_type": "code",
   "execution_count": 1,
   "id": "13380dbf",
   "metadata": {},
   "outputs": [],
   "source": [
    "from flask import Flask, Request"
   ]
  },
  {
   "cell_type": "code",
   "execution_count": 2,
   "id": "6e799a05",
   "metadata": {},
   "outputs": [],
   "source": [
    "app = Flask(__name__)"
   ]
  },
  {
   "cell_type": "code",
   "execution_count": 4,
   "id": "c5adafc8",
   "metadata": {},
   "outputs": [
    {
     "name": "stdout",
     "output_type": "stream",
     "text": [
      " * Serving Flask app '__main__'\n",
      " * Debug mode: on\n"
     ]
    },
    {
     "name": "stderr",
     "output_type": "stream",
     "text": [
      "WARNING: This is a development server. Do not use it in a production deployment. Use a production WSGI server instead.\n",
      " * Running on http://127.0.0.1:8000\n",
      "Press CTRL+C to quit\n",
      " * Restarting with watchdog (windowsapi)\n"
     ]
    },
    {
     "ename": "SystemExit",
     "evalue": "1",
     "output_type": "error",
     "traceback": [
      "An exception has occurred, use %tb to see the full traceback.\n",
      "\u001b[1;31mSystemExit\u001b[0m\u001b[1;31m:\u001b[0m 1\n"
     ]
    },
    {
     "name": "stderr",
     "output_type": "stream",
     "text": [
      "C:\\Users\\hilal\\anaconda3\\envs\\Hilal\\lib\\site-packages\\IPython\\core\\interactiveshell.py:3534: UserWarning: To exit: use 'exit', 'quit', or Ctrl-D.\n",
      "  warn(\"To exit: use 'exit', 'quit', or Ctrl-D.\", stacklevel=1)\n"
     ]
    }
   ],
   "source": [
    "@app.route(\"/havadurumu\", methods = [\"POST\"])\n",
    "def hava_durumu():\n",
    "    requests_data = request.get_json(force = True)\n",
    "    hava_durumu_sehir = requests_data[\"hava_durumu_il\"]\n",
    "    \n",
    "    if (hava_durumu_sehir == \"Ankara\"):\n",
    "        cevap = \"İstediğiniz il {0} hava durumu:\".format(hava_durumu_sehir) + \"14 derece\"\n",
    "    elif (hava_durumu_sehir == \"İzmir\"):\n",
    "        cevap = \"İstediğiniz il {0} hava durumu:\".format(hava_durumu_sehir) + \"14 derece\"\n",
    "    elif (hava_durumu_sehir == \"İstanbul\"):\n",
    "        cevap = \"İstediğiniz il {0} hava durumu:\".format(hava_durumu_sehir) + \"14 derece\"\n",
    "    return cevap\n",
    "\n",
    "if __name__ == \"__main__\":\n",
    "    app.run(port= 8000, debug = True)"
   ]
  },
  {
   "cell_type": "code",
   "execution_count": null,
   "id": "fe9fc14f",
   "metadata": {},
   "outputs": [],
   "source": []
  }
 ],
 "metadata": {
  "kernelspec": {
   "display_name": "Python 3 (ipykernel)",
   "language": "python",
   "name": "python3"
  },
  "language_info": {
   "codemirror_mode": {
    "name": "ipython",
    "version": 3
   },
   "file_extension": ".py",
   "mimetype": "text/x-python",
   "name": "python",
   "nbconvert_exporter": "python",
   "pygments_lexer": "ipython3",
   "version": "3.10.13"
  }
 },
 "nbformat": 4,
 "nbformat_minor": 5
}
